{
  "nbformat": 4,
  "nbformat_minor": 0,
  "metadata": {
    "colab": {
      "name": "monty_hall_problem.ipynb",
      "provenance": [],
      "collapsed_sections": [],
      "authorship_tag": "ABX9TyOGMXRF+/pRa5kai0+265hp",
      "include_colab_link": true
    },
    "kernelspec": {
      "name": "python3",
      "display_name": "Python 3"
    }
  },
  "cells": [
    {
      "cell_type": "markdown",
      "metadata": {
        "id": "view-in-github",
        "colab_type": "text"
      },
      "source": [
        "<a href=\"https://colab.research.google.com/github/soumunote/Samples/blob/master/monty_hall_problem.ipynb\" target=\"_parent\"><img src=\"https://colab.research.google.com/assets/colab-badge.svg\" alt=\"Open In Colab\"/></a>"
      ]
    },
    {
      "cell_type": "code",
      "metadata": {
        "colab": {
          "base_uri": "https://localhost:8080/",
          "height": 265
        },
        "id": "igQTtxACL41G",
        "outputId": "8edf2b03-6454-45fd-9831-0d03b4477187"
      },
      "source": [
        "from matplotlib import  pyplot as plt\n",
        "import random\n",
        "\n",
        "NUMBER_OF_CHALLENGES = 100\n",
        "NUMBER_OF_DOORS = 3\n",
        "\n",
        "def getCar():\n",
        "  '''車を置く扉を選ぶ\n",
        "  '''\n",
        "  return random.randint(1, NUMBER_OF_DOORS)\n",
        "\n",
        "def getMyChoice():\n",
        "  '''車が置かれている扉を当てる\n",
        "  '''\n",
        "  return random.randint(1, NUMBER_OF_DOORS)\n",
        "\n",
        "def getMontysChoice(car, myChoice):\n",
        "  '''モンティの選択を決定\n",
        "  モンティは、自分が選ばず、かつ、車が置かれていない扉を選ぶ\n",
        "  car : 車が置かれている扉\n",
        "  myChoice : 自分が選んだ扉\n",
        "  '''\n",
        "  montysChoice = myChoice\n",
        "  while montysChoice == myChoice or montysChoice == car:\n",
        "    montysChoice = random.randint(1, NUMBER_OF_DOORS)\n",
        "  return montysChoice\n",
        "\n",
        "def getChange(myChoice, montysChoice):\n",
        "  '''自分もモンティも選んでいない扉を選ぶ\n",
        "  '''\n",
        "  change = myChoice\n",
        "  while change == myChoice or change == montysChoice:\n",
        "    change = random.randint(1, NUMBER_OF_DOORS)\n",
        "  return change  \n",
        "\n",
        "def challenge(numOfChallenges):\n",
        "  hitCnt = 0\n",
        "  changeCnt = 0\n",
        "  for i in range(numOfChallenges):\n",
        "    carNo = getCar()\n",
        "    myNo = getMyChoice()\n",
        "    montysNo = getMontysChoice(carNo, myNo)\n",
        "    changeNo = getChange(myNo, montysNo)\n",
        "    if myNo == carNo:\n",
        "      hitCnt = hitCnt + 1\n",
        "    if changeNo == carNo:\n",
        "      changeCnt = changeCnt + 1\n",
        "  return (hitCnt, changeCnt)\n",
        "\n",
        "if __name__ == '__main__':\n",
        "  hitCounts = [0] * NUMBER_OF_CHALLENGES # 全て当たる事は無いとして...手を抜く\n",
        "  changeCounts = [0] * NUMBER_OF_CHALLENGES # 全て当たる事は無いとして...手を抜く\n",
        "  for i in range(20000):\n",
        "    (numOfHits, numberOfChanges) = challenge(NUMBER_OF_CHALLENGES)\n",
        "    hitCounts[numOfHits] = hitCounts[numOfHits] + 1\n",
        "    changeCounts[numberOfChanges] = changeCounts[numberOfChanges] + 1\n",
        "  \n",
        "  #plt.subplot().set_xlim([200, 500])\n",
        "  plt.plot(hitCounts)\n",
        "  plt.plot(changeCounts)\n"
      ],
      "execution_count": 40,
      "outputs": [
        {
          "output_type": "display_data",
          "data": {
            "image/png": "[encoded data removed]",
            "text/plain": [
              "<Figure size 432x288 with 1 Axes>"
            ]
          },
          "metadata": {
            "tags": [],
            "needs_background": "light"
          }
        }
      ]
    },
    {
      "cell_type": "code",
      "metadata": {
        "id": "nOPlOjruQnX9"
      },
      "source": [
        ""
      ],
      "execution_count": null,
      "outputs": []
    }
  ]
}
