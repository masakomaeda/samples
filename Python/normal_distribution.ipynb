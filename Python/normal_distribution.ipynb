{
  "nbformat": 4,
  "nbformat_minor": 0,
  "metadata": {
    "colab": {
      "name": "normal-distribution.ipynb",
      "provenance": [],
      "collapsed_sections": [],
      "authorship_tag": "ABX9TyMqW8kNAncU91Zc2nmy1/c3",
      "include_colab_link": true
    },
    "kernelspec": {
      "name": "python3",
      "display_name": "Python 3"
    }
  },
  "cells": [
    {
      "cell_type": "markdown",
      "metadata": {
        "id": "view-in-github",
        "colab_type": "text"
      },
      "source": [
        "<a href=\"https://colab.research.google.com/github/soumunote/Samples/blob/master/Python/normal_distribution.ipynb\" target=\"_parent\"><img src=\"https://colab.research.google.com/assets/colab-badge.svg\" alt=\"Open In Colab\"/></a>"
      ]
    },
    {
      "cell_type": "code",
      "metadata": {
        "id": "s3nfoMhG6sDq",
        "colab": {
          "base_uri": "https://localhost:8080/",
          "height": 282
        },
        "outputId": "95cf0d38-4f8a-4dcd-856a-47cfa37b7493"
      },
      "source": [
        "from matplotlib import pyplot as plt\n",
        "import random\n",
        "\n",
        "def countBit(n):\n",
        "  '''\n",
        "  引数 n を2進変換し、1になっているビット数を数える\n",
        "  (2 ** x) - 1 を与えれば、コインを x 枚投げて表が出た枚数を求められる\n",
        "  '''\n",
        "  if n > 1:\n",
        "    return countBit(n // 2) + countBit(n % 2)\n",
        "  else:\n",
        "    return n\n",
        "\n",
        "numCoins = 10 # 投げるコインの枚数\n",
        "numObverse = [0] * (numCoins + 1)\n",
        "for i in range(100000):\n",
        "  flipCoins = random.randrange(2 ** numCoins) \n",
        "  bits = countBit(flipCoins) # 投げたコインの中で表の枚数\n",
        "  numObverse[bits] = numObverse[bits] + 1\n",
        "\n",
        "plt.plot(numObverse)"
      ],
      "execution_count": 71,
      "outputs": [
        {
          "output_type": "execute_result",
          "data": {
            "text/plain": [
              "[<matplotlib.lines.Line2D at 0x7f24c6a70550>]"
            ]
          },
          "metadata": {
            "tags": []
          },
          "execution_count": 71
        },
        {
          "output_type": "display_data",
          "data": {
            "image/png": "[encoded data removed]",
            "text/plain": [
              "<Figure size 432x288 with 1 Axes>"
            ]
          },
          "metadata": {
            "tags": [],
            "needs_background": "light"
          }
        }
      ]
    },
    {
      "cell_type": "code",
      "metadata": {
        "id": "hTZiupOOrMzd"
      },
      "source": [
        "\r\n"
      ],
      "execution_count": 63,
      "outputs": []
    },
    {
      "cell_type": "code",
      "metadata": {
        "id": "Z6bImu1kqGmv"
      },
      "source": [
        ""
      ],
      "execution_count": 23,
      "outputs": []
    },
    {
      "cell_type": "code",
      "metadata": {
        "id": "kzgo1PaAqG6c"
      },
      "source": [
        ""
      ],
      "execution_count": null,
      "outputs": []
    },
    {
      "cell_type": "code",
      "metadata": {
        "colab": {
          "base_uri": "https://localhost:8080/"
        },
        "id": "8xRh3lvtmEUG",
        "outputId": "5299f0c8-13c1-4c63-d9e7-1333c3156778"
      },
      "source": [
        "print(range(0,2))"
      ],
      "execution_count": 16,
      "outputs": [
        {
          "output_type": "stream",
          "text": [
            "range(0, 2)\n"
          ],
          "name": "stdout"
        }
      ]
    }
  ]
}